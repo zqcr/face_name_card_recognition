{
 "cells": [
  {
   "cell_type": "code",
   "execution_count": 1,
   "metadata": {},
   "outputs": [],
   "source": [
    "from azure.cognitiveservices.vision.computervision import ComputerVisionClient\n",
    "from azure.cognitiveservices.vision.computervision.models import TextOperationStatusCodes\n",
    "from azure.cognitiveservices.vision.computervision.models import TextRecognitionMode\n",
    "from azure.cognitiveservices.vision.computervision.models import VisualFeatureTypes\n",
    "from msrest.authentication import CognitiveServicesCredentials\n",
    "\n",
    "from array import array\n",
    "import os\n",
    "from PIL import Image\n",
    "import sys\n",
    "import time"
   ]
  },
  {
   "cell_type": "code",
   "execution_count": 2,
   "metadata": {},
   "outputs": [
    {
     "name": "stdout",
     "output_type": "stream",
     "text": [
      "6bc7a65eca8847f3bd64b62deb51e490\n",
      "https://namecardapp.cognitiveservices.azure.com/\n"
     ]
    }
   ],
   "source": [
    "os.environ['COMPUTER_VISION_SUBSCRIPTION_KEY'] = '6bc7a65eca8847f3bd64b62deb51e490'\n",
    "os.environ['COMPUTER_VISION_ENDPOINT'] = 'https://namecardapp.cognitiveservices.azure.com/'\n",
    "\n",
    "\n",
    "KEY = os.environ['COMPUTER_VISION_SUBSCRIPTION_KEY']\n",
    "ENDPOINT = os.environ['COMPUTER_VISION_ENDPOINT']\n",
    "print(KEY)\n",
    "print(ENDPOINT)"
   ]
  },
  {
   "cell_type": "code",
   "execution_count": 5,
   "metadata": {
    "collapsed": true
   },
   "outputs": [],
   "source": [
    "computervision_client = ComputerVisionClient(ENDPOINT, CognitiveServicesCredentials(KEY))\n"
   ]
  },
  {
   "cell_type": "code",
   "execution_count": 18,
   "metadata": {},
   "outputs": [
    {
     "name": "stdout",
     "output_type": "stream",
     "text": [
      "===== Batch Read File - remote =====\n"
     ]
    }
   ],
   "source": [
    "'''\n",
    "Batch Read File, recognize printed text - remote\n",
    "This example will extract printed text in an image, then print results, line by line.\n",
    "This API call can also recognize handwriting (not shown).\n",
    "'''\n",
    "print(\"===== Batch Read File - remote =====\")\n",
    "# Get an image with printed text\n",
    "remote_image_printed_text_url = \"https://raw.githubusercontent.com/Azure-Samples/cognitive-services-sample-data-files/master/ComputerVision/Images/printed_text.jpg\"\n",
    "\n",
    "# Call API with URL and raw response (allows you to get the operation location)\n",
    "img = open('./name_card/namecard_back.jpg','r+b')\n",
    "recognize_printed_results = computervision_client.batch_read_file(remote_image_printed_text_url,  raw=True)\n",
    "#analyze_image_in_stream(img,language='en',raw=True)\n"
   ]
  },
  {
   "cell_type": "code",
   "execution_count": 22,
   "metadata": {
    "scrolled": true
   },
   "outputs": [
    {
     "name": "stdout",
     "output_type": "stream",
     "text": [
      "d679972c-2de4-4f12-85c7-196bfffa8a5d\n"
     ]
    }
   ],
   "source": [
    "recognize_printed_results.headers.keys()\n",
    "print(operation_id) "
   ]
  },
  {
   "cell_type": "code",
   "execution_count": 21,
   "metadata": {},
   "outputs": [
    {
     "name": "stdout",
     "output_type": "stream",
     "text": [
      "Nutrition Facts Amount Per Serving\n",
      "[144.0, 0.0, 1238.0, 211.0, 1224.0, 280.0, 130.0, 57.0]\n",
      "Serving size: 1 bar (40g)\n",
      "[110.0, 58.0, 598.0, 157.0, 587.0, 206.0, 100.0, 108.0]\n",
      "Serving Per Package: 4\n",
      "[83.0, 108.0, 548.0, 206.0, 538.0, 256.0, 72.0, 157.0]\n",
      "Total Fat 13g\n",
      "[683.0, 213.0, 1000.0, 286.0, 989.0, 332.0, 672.0, 260.0]\n",
      "Saturated Fat 1.5g\n",
      "[695.0, 295.0, 1120.0, 394.0, 1108.0, 447.0, 683.0, 347.0]\n",
      "Amount Per Serving\n",
      "[29.0, 207.0, 491.0, 309.0, 478.0, 367.0, 16.0, 265.0]\n",
      "Trans Fat 0g\n",
      "[668.0, 363.0, 954.0, 435.0, 940.0, 488.0, 655.0, 416.0]\n",
      "alories 190\n",
      "[8.0, 293.0, 265.0, 350.0, 254.0, 396.0, 0.0, 339.0]\n",
      "Cholesterol Omg\n",
      "[593.0, 424.0, 1007.0, 526.0, 993.0, 580.0, 579.0, 479.0]\n",
      "ories from Fat 110\n",
      "[9.0, 377.0, 398.0, 464.0, 388.0, 509.0, 0.0, 421.0]\n",
      "Sodium 20mg\n",
      "[561.0, 497.0, 913.0, 588.0, 899.0, 643.0, 547.0, 552.0]\n",
      "nt Daily Values are based on\n",
      "[7.0, 476.0, 521.0, 598.0, 511.0, 640.0, 0.0, 518.0]\n",
      "Vitamin A 50%\n",
      "[525.0, 597.0, 776.0, 657.0, 766.0, 699.0, 514.0, 640.0]\n",
      "calorie diet.\n",
      "[12.0, 534.0, 196.0, 576.0, 187.0, 615.0, 4.0, 574.0]\n",
      "\n"
     ]
    }
   ],
   "source": [
    "# Get the operation location (URL with an ID at the end) from the response\n",
    "operation_location_remote = recognize_printed_results.headers[\"Operation-Location\"]\n",
    "# Grab the ID from the URL\n",
    "operation_id = operation_location_remote.split(\"/\")[-1]\n",
    "\n",
    "# Call the \"GET\" API and wait for it to retrieve the results \n",
    "while True:\n",
    "    get_printed_text_results = computervision_client.get_read_operation_result(operation_id)\n",
    "    if get_printed_text_results.status not in ['NotStarted', 'Running']:\n",
    "        break\n",
    "    time.sleep(1)\n",
    "\n",
    "# Print the detected text, line by line\n",
    "if get_printed_text_results.status == TextOperationStatusCodes.succeeded:\n",
    "    for text_result in get_printed_text_results.recognition_results:\n",
    "        for line in text_result.lines:\n",
    "            print(line.text)\n",
    "            print(line.bounding_box)\n",
    "print()"
   ]
  }
 ],
 "metadata": {
  "kernelspec": {
   "display_name": "Python 3",
   "language": "python",
   "name": "python3"
  },
  "language_info": {
   "codemirror_mode": {
    "name": "ipython",
    "version": 3
   },
   "file_extension": ".py",
   "mimetype": "text/x-python",
   "name": "python",
   "nbconvert_exporter": "python",
   "pygments_lexer": "ipython3",
   "version": "3.6.8"
  }
 },
 "nbformat": 4,
 "nbformat_minor": 2
}
